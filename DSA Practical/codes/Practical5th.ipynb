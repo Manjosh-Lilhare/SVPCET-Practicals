{
  "cells": [
    {
      "cell_type": "code",
      "execution_count": 2,
      "metadata": {
        "colab": {
          "base_uri": "https://localhost:8080/"
        },
        "id": "80MTRq62IUR8",
        "outputId": "b310427b-ccac-4cde-af9f-34fdb09bff88"
      },
      "outputs": [
        {
          "name": "stdout",
          "output_type": "stream",
          "text": [
            "Minimum Cost Spanning Tree (for all connected components):\n",
            "A - B: 1\n",
            "R - T: 1\n",
            "B - C: 2\n",
            "C - D: 3\n",
            "D - F: 4\n",
            "J - L: 4\n",
            "C - E: 5\n",
            "L - M: 5\n",
            "H - I: 6\n",
            "P - Q: 6\n",
            "F - G: 7\n",
            "H - L: 7\n",
            "O - P: 7\n",
            "J - K: 8\n",
            "N - P: 8\n",
            "S - T: 14\n",
            "\n",
            "Total Weight of Minimum Spanning Trees: 88\n"
          ]
        }
      ],
      "source": [
        "class DisjointSet:\n",
        "    def __init__(self, vertices):\n",
        "        self.parent = {v: v for v in vertices}\n",
        "        self.rank = {v: 0 for v in vertices}\n",
        "\n",
        "    def find(self, v):\n",
        "        if self.parent[v] != v:\n",
        "            self.parent[v] = self.find(self.parent[v])\n",
        "        return self.parent[v]\n",
        "\n",
        "    def union(self, u, v):\n",
        "        root1 = self.find(u)\n",
        "        root2 = self.find(v)\n",
        "\n",
        "        if root1 != root2:\n",
        "            if self.rank[root1] > self.rank[root2]:\n",
        "                self.parent[root2] = root1\n",
        "            elif self.rank[root1] < self.rank[root2]:\n",
        "                self.parent[root1] = root2\n",
        "            else:\n",
        "                self.parent[root2] = root1\n",
        "                self.rank[root1] += 1\n",
        "\n",
        "def kruskal_algorithm(vertices, edges):\n",
        "    mst = []\n",
        "    total_weight = 0\n",
        "\n",
        "    edges.sort(key=lambda edge: edge[2])\n",
        "    ds = DisjointSet(vertices)\n",
        "\n",
        "    for u, v, weight in edges:\n",
        "        if ds.find(u) != ds.find(v):\n",
        "            ds.union(u, v)\n",
        "            mst.append((u, v, weight))\n",
        "            total_weight += weight\n",
        "\n",
        "    return mst, total_weight\n",
        "\n",
        "# Correctly placed vertices and edges outside the function\n",
        "vertices = ['A', 'B', 'C', 'D', 'E', 'F', 'G', 'H', 'I', 'J', 'K', 'L', 'M', 'N','O','P','Q','R','S','T']\n",
        "edges = [\n",
        "    # Graph1\n",
        "    ('A','B',1), ('B','C',2), ('C','D',3), ('C','E',5), ('D','F',4),('E','F',6),('F','G',7),\n",
        "\n",
        "    # Graph2\n",
        "    ('H','I',6),('H','L',7),('L','M',5),('I','J',9),('J','K',8),('J','L',4),\n",
        "\n",
        "    # Graph3\n",
        "    ('N','O',9),('N','P',8),('O','P',7),('P','Q',6),\n",
        "\n",
        "    # Graph4\n",
        "    ('S','R',15),('R','T',1),('S','T',14)\n",
        "]\n",
        "\n",
        "# Running Kruskal's algorithm\n",
        "mst, total_weight = kruskal_algorithm(vertices, edges)\n",
        "\n",
        "print(\"Minimum Cost Spanning Tree (for all connected components):\")\n",
        "for u, v, weight in mst:\n",
        "    print(f\"{u} - {v}: {weight}\")\n",
        "print(f\"\\nTotal Weight of Minimum Spanning Trees: {total_weight}\")\n"
      ]
    },
    {
      "cell_type": "code",
      "execution_count": null,
      "metadata": {
        "id": "evUEUcS1IU33"
      },
      "outputs": [],
      "source": []
    }
  ],
  "metadata": {
    "colab": {
      "provenance": []
    },
    "kernelspec": {
      "display_name": "Python 3",
      "name": "python3"
    },
    "language_info": {
      "codemirror_mode": {
        "name": "ipython",
        "version": 3
      },
      "file_extension": ".py",
      "mimetype": "text/x-python",
      "name": "python",
      "nbconvert_exporter": "python",
      "pygments_lexer": "ipython3",
      "version": "3.12.1"
    }
  },
  "nbformat": 4,
  "nbformat_minor": 0
}
