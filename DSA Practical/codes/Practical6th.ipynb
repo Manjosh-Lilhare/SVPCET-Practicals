{
 "cells": [
  {
   "cell_type": "code",
   "execution_count": 2,
   "id": "7f300b84",
   "metadata": {},
   "outputs": [
    {
     "name": "stdout",
     "output_type": "stream",
     "text": [
      "Minimum Spanning Tree:\n",
      "A - E (weight 1)\n",
      "A - B (weight 2)\n",
      "B - D (weight 2)\n",
      "E - H (weight 2)\n",
      "H - J (weight 2)\n",
      "J - G (weight 2)\n",
      "G - F (weight 1)\n",
      "B - C (weight 3)\n",
      "F - I (weight 3)\n",
      "Total cost of Minimum Spanning Tree: 18\n"
     ]
    }
   ],
   "source": [
    "import heapq\n",
    "\n",
    "def prim(graph, start_vertex):\n",
    "    mst = []\n",
    "    visited = set([start_vertex])\n",
    "    edges = [\n",
    "        (cost, start_vertex, to)\n",
    "        for to, cost in graph[start_vertex].items()\n",
    "    ]\n",
    "    heapq.heapify(edges)\n",
    "\n",
    "    total_cost = 0\n",
    "\n",
    "    while edges:\n",
    "        cost, frm, to = heapq.heappop(edges)\n",
    "        if to not in visited:\n",
    "            visited.add(to)\n",
    "            mst.append((frm, to, cost))\n",
    "            total_cost += cost\n",
    "\n",
    "            for to_next, cost in graph[to].items():\n",
    "                if to_next not in visited:\n",
    "                    heapq.heappush(edges, (cost, to, to_next))\n",
    "\n",
    "    return mst, total_cost\n",
    "\n",
    "# Final graph (total MST cost = 15)\n",
    "graph = {\n",
    "    'A': {'B': 2, 'E': 1},\n",
    "    'B': {'A': 2, 'C': 3, 'D': 2},\n",
    "    'C': {'B': 3, 'D': 4, 'F': 7},\n",
    "    'D': {'C': 4, 'B': 2, 'E': 2},\n",
    "    'E': {'A': 1, 'G': 3, 'D': 2, 'H': 2},\n",
    "    'F': {'C': 7, 'G': 1,'I':3},\n",
    "    'G':{'E':3,'F':1,'H':9,'I':8,'J':2},\n",
    "    'H':{'E':2,'G':9,'J':2},\n",
    "    'I':{'F':3,'G':8,'J':3},\n",
    "    'J':{'G':2,'H':2,'I':3}\n",
    "}\n",
    "\n",
    "mst, total_cost = prim(graph, 'A')\n",
    "\n",
    "print(\"Minimum Spanning Tree:\")\n",
    "for edge in mst:\n",
    "    print(f\"{edge[0]} - {edge[1]} (weight {edge[2]})\")\n",
    "\n",
    "print(f\"Total cost of Minimum Spanning Tree: {total_cost}\")"
   ]
  }
 ],
 "metadata": {
  "kernelspec": {
   "display_name": "Python 3",
   "language": "python",
   "name": "python3"
  },
  "language_info": {
   "codemirror_mode": {
    "name": "ipython",
    "version": 3
   },
   "file_extension": ".py",
   "mimetype": "text/x-python",
   "name": "python",
   "nbconvert_exporter": "python",
   "pygments_lexer": "ipython3",
   "version": "3.12.1"
  }
 },
 "nbformat": 4,
 "nbformat_minor": 5
}
